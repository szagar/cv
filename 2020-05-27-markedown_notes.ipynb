{
 "cells": [
  {
   "cell_type": "markdown",
   "id": "b6114382-284e-4fed-bf6a-39ea50b4ddd9",
   "metadata": {},
   "source": [
    "### Notebook markdown"
   ]
  },
  {
   "cell_type": "markdown",
   "id": "051fcc0e-b32a-4141-92dc-e469a8e86635",
   "metadata": {},
   "source": [
    "This adds a linked superscript {% fn 15 %}\n",
    "\n",
    "{{ \"This is the actual footnote\" | fndetail: 15 }}"
   ]
  },
  {
   "cell_type": "markdown",
   "id": "5904f9ff-20b4-47ad-ac97-b4dc47eb16dd",
   "metadata": {},
   "source": [
    "This adds a linked superscript {% fn 20 %}\n",
    "\n",
    "{{ 'This is the actual footnote; with a [link](www.github.com) as well! and a single quote &#39; too!'  | fndetail: 20 }}"
   ]
  },
  {
   "cell_type": "code",
   "execution_count": null,
   "id": "8cddae6f-9a3d-43b0-957b-e8f93ce1abff",
   "metadata": {},
   "outputs": [],
   "source": []
  }
 ],
 "metadata": {
  "kernelspec": {
   "display_name": "cv-venv",
   "language": "python",
   "name": "cv-venv"
  },
  "language_info": {
   "codemirror_mode": {
    "name": "ipython",
    "version": 3
   },
   "file_extension": ".py",
   "mimetype": "text/x-python",
   "name": "python",
   "nbconvert_exporter": "python",
   "pygments_lexer": "ipython3",
   "version": "3.9.7"
  }
 },
 "nbformat": 4,
 "nbformat_minor": 5
}
