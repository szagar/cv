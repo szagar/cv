{
 "cells": [
  {
   "cell_type": "markdown",
   "id": "2c037314-d483-41b4-912a-a86139a921ea",
   "metadata": {},
   "source": [
    "# Dataclass Notes\n",
    "> Notes that may be useful when coding.\n",
    "\n",
    "- toc: true\n",
    "- branch: master\n",
    "- badges: true\n",
    "- comments: true\n",
    "- author: Stephen Zagar\n",
    "- categories: [development, notes, python, dataclass]"
   ]
  },
  {
   "cell_type": "markdown",
   "id": "51c71fc9-a741-41b0-bba2-b90dcda25da1",
   "metadata": {},
   "source": [
    "#### youtube\n",
    "* [Elegant Solutions for Everyday Python](https://youtu.be/WiQqqB9MlkA)\n",
    "* [Thinking Outside the GIL with AsyncIO and Multiprocessing](https://www.youtube.com/watch?v=0kXaLh8Fz3k)"
   ]
  },
  {
   "cell_type": "markdown",
   "id": "0fc36284-768a-4f51-a744-83a863aca52e",
   "metadata": {},
   "source": [
    "## inspect"
   ]
  },
  {
   "cell_type": "code",
   "execution_count": 1,
   "id": "e087a53a-691b-4f57-a319-dc0cd2049a7c",
   "metadata": {},
   "outputs": [
    {
     "name": "stdout",
     "output_type": "stream",
     "text": [
      "[('__delattr__', <function __create_fn__.<locals>.__delattr__ at 0x109c1ea60>),\n",
      " ('__eq__', <function __create_fn__.<locals>.__eq__ at 0x109c1e700>),\n",
      " ('__ge__', <function __create_fn__.<locals>.__ge__ at 0x109c1e940>),\n",
      " ('__gt__', <function __create_fn__.<locals>.__gt__ at 0x109c1e8b0>),\n",
      " ('__hash__', <function __create_fn__.<locals>.__hash__ at 0x109c1eaf0>),\n",
      " ('__init__', <function __create_fn__.<locals>.__init__ at 0x109c1e670>),\n",
      " ('__le__', <function __create_fn__.<locals>.__le__ at 0x109c1e820>),\n",
      " ('__lt__', <function __create_fn__.<locals>.__lt__ at 0x109c1e790>),\n",
      " ('__repr__', <function __create_fn__.<locals>.__repr__ at 0x109c1e5e0>),\n",
      " ('__setattr__', <function __create_fn__.<locals>.__setattr__ at 0x109c1e9d0>)]\n"
     ]
    }
   ],
   "source": [
    "from dataclasses import dataclass\n",
    "@dataclass(frozen=True, order=True)\n",
    "class Comment:\n",
    "    id: int\n",
    "    text: str = \"\"\n",
    "    \n",
    "import inspect\n",
    "import pprint\n",
    "pprint.pprint(inspect.getmembers(Comment, inspect.isfunction))"
   ]
  },
  {
   "cell_type": "markdown",
   "id": "3189f462-7e26-41d2-80d2-075ace369dc2",
   "metadata": {},
   "source": [
    "import pprint"
   ]
  },
  {
   "cell_type": "markdown",
   "id": "8778ea63-743d-4b14-9714-28107558a3c0",
   "metadata": {},
   "source": []
  },
  {
   "cell_type": "code",
   "execution_count": null,
   "id": "e8d28470-a1d2-4165-a880-2d324a536754",
   "metadata": {},
   "outputs": [],
   "source": []
  }
 ],
 "metadata": {
  "kernelspec": {
   "display_name": "cv-venv",
   "language": "python",
   "name": "cv-venv"
  },
  "language_info": {
   "codemirror_mode": {
    "name": "ipython",
    "version": 3
   },
   "file_extension": ".py",
   "mimetype": "text/x-python",
   "name": "python",
   "nbconvert_exporter": "python",
   "pygments_lexer": "ipython3",
   "version": "3.9.7"
  }
 },
 "nbformat": 4,
 "nbformat_minor": 5
}
