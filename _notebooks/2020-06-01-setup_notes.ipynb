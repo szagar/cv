{
 "cells": [
  {
   "cell_type": "markdown",
   "id": "5c89ee91-76bf-4c47-9dd4-27eb95074400",
   "metadata": {},
   "source": [
    "### Env / jupyter setup"
   ]
  },
  {
   "cell_type": "markdown",
   "id": "80b58771-0ab3-4341-864b-69baf59f4ea0",
   "metadata": {},
   "source": [
    "* `python -m venv cv_env`\n",
    "* `source cv_env/bin/activate`\n",
    "* `/Users/szagar/work/blog/cv/cv_env/bin/python -m pip install --upgrade pip`\n",
    "* `pip install jupyter`\n",
    "* `pip install ipykernel`\n",
    "* `python -m ipykernel install --name=cv-venv`"
   ]
  },
  {
   "cell_type": "markdown",
   "id": "30ca2ddd-585f-4561-8cd1-239435e33710",
   "metadata": {},
   "source": [
    "### Juptyer tools"
   ]
  },
  {
   "cell_type": "markdown",
   "id": "040921d2-775d-485d-92c5-2de5b32616fc",
   "metadata": {},
   "source": [
    "* list jupyter virtual envs: <br>\n",
    "  `jupyter kernelspec list`\n",
    "* remove jupyter virtual envs: <br>\n",
    "    `jupyter kernelspec uninstall <venv name>`"
   ]
  },
  {
   "cell_type": "markdown",
   "id": "3e4d438b-2876-4781-bc2d-25dcef9d21ea",
   "metadata": {},
   "source": [
    "## Fastpages notes"
   ]
  },
  {
   "cell_type": "markdown",
   "id": "2925473b-10fc-47d8-8037-21425d179673",
   "metadata": {
    "tags": []
   },
   "source": [
    "* all available commands : <br>`make`\n",
    "* run the blog with live preview : <br> `make server`\n",
    "  * first time, it'll build the required Docker images\n",
    "  * monitors any changes in ./_notebooks/*.ipynb/ and ./_word/*.docx;*.doc and rebuild the blog on change\n",
    "  * Jekyll server on https://127.0.0.1:4000 \n",
    "* run all services in the background : <br>\n",
    "    `make server-detached`\n",
    "* stop the services : <br>\n",
    "    `make stop`\n",
    "* restart just the Jekyll server, already running in the background : <br>\n",
    "`restart-jekyll`\n",
    "\n",
    "* troubleshoot: <br>\n",
    "If containers won't start: try make build first, this would rebuild all the containers from scratch"
   ]
  },
  {
   "cell_type": "markdown",
   "id": "703e0cd3-b99c-4815-a062-63aa3fe64ad5",
   "metadata": {},
   "source": [
    "#### Converting the pages locally"
   ]
  },
  {
   "cell_type": "markdown",
   "id": "717bca28-b39e-4add-9c83-55f2a7651e9c",
   "metadata": {},
   "source": [
    "convert your notebooks and word documents to .md posts in _posts <br>\n",
    "`make convert`"
   ]
  },
  {
   "cell_type": "markdown",
   "id": "da829015-6feb-4f98-8b9d-9fafc22fc6c7",
   "metadata": {},
   "source": [
    "#### Launch just the jekyll server <br>\n",
    "`make server`"
   ]
  },
  {
   "cell_type": "markdown",
   "id": "97bbb4f6-09e1-40d0-8095-b455deb8b705",
   "metadata": {},
   "source": [
    "[more notes](https://github.com/szagar/cv/blob/master/_fastpages_docs/DEVELOPMENT.md)"
   ]
  },
  {
   "cell_type": "code",
   "execution_count": null,
   "id": "eb25f73c-41fd-4f08-8eeb-63754d89ebe3",
   "metadata": {},
   "outputs": [],
   "source": []
  }
 ],
 "metadata": {
  "kernelspec": {
   "display_name": "cv-venv",
   "language": "python",
   "name": "cv-venv"
  },
  "language_info": {
   "codemirror_mode": {
    "name": "ipython",
    "version": 3
   },
   "file_extension": ".py",
   "mimetype": "text/x-python",
   "name": "python",
   "nbconvert_exporter": "python",
   "pygments_lexer": "ipython3",
   "version": "3.9.7"
  }
 },
 "nbformat": 4,
 "nbformat_minor": 5
}
