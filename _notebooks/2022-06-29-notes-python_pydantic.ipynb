{
 "cells": [
  {
   "cell_type": "markdown",
   "id": "2c037314-d483-41b4-912a-a86139a921ea",
   "metadata": {},
   "source": [
    "# Pydantic Notes\n",
    "> Notes that may be useful when coding.\n",
    "\n",
    "- toc: true\n",
    "- branch: master\n",
    "- badges: true\n",
    "- comments: true\n",
    "- author: Stephen Zagar\n",
    "- categories: [development, notes, python, pydantic, dataclass]"
   ]
  },
  {
   "cell_type": "code",
   "execution_count": null,
   "id": "d0d29b4f-bc15-4a34-8109-0379b56612f1",
   "metadata": {},
   "outputs": [],
   "source": []
  },
  {
   "cell_type": "code",
   "execution_count": 24,
   "id": "cb9f5331-fe3f-476a-bb4f-b14def9230d2",
   "metadata": {},
   "outputs": [
    {
     "name": "stdout",
     "output_type": "stream",
     "text": [
      "title='zero to one' author='peter thiel' publisher='ballantine books' price=14.29 isbn_10='0753555190' isbn_13='978-0753555194' subtitle='notes on startups, or how to build the future' author2=Author(name='Peter Thiel', verified=True)\n",
      "{'title': 'zero to one', 'author': 'peter thiel', 'publisher': 'ballantine books', 'isbn_10': '0753555190', 'isbn_13': '978-0753555194', 'subtitle': 'notes on startups, or how to build the future', 'author2': {'name': 'Peter Thiel', 'verified': True}}\n",
      "title='the lean startup' author='eric ries' publisher='penguin uk' price=12.96 isbn_10='0670921602' isbn_13='978-0670921607' subtitle='how relentless change creates radically successful businesses' author2=None\n"
     ]
    }
   ],
   "source": [
    "\"\"\"\n",
    "Basic example showing how to read and validate data from a file using Pydantic.\n",
    "\"\"\"\n",
    "\n",
    "import json\n",
    "from typing import List, Optional\n",
    "\n",
    "import pydantic\n",
    "\n",
    "\n",
    "class ISBNMissingError(Exception):\n",
    "    \"\"\"Custom error that is raised when both ISBN10 and ISBN13 are missing.\"\"\"\n",
    "\n",
    "    def __init__(self, title: str, message: str) -> None:\n",
    "        self.title = title\n",
    "        self.message = message\n",
    "        super().__init__(message)\n",
    "\n",
    "\n",
    "class ISBN10FormatError(Exception):\n",
    "    \"\"\"Custom error that is raised when ISBN10 doesn't have the right format.\"\"\"\n",
    "\n",
    "    def __init__(self, value: str, message: str) -> None:\n",
    "        self.value = value\n",
    "        self.message = message\n",
    "        super().__init__(message)\n",
    "\n",
    "\n",
    "class Author(pydantic.BaseModel):\n",
    "    name: str\n",
    "    verified: bool\n",
    "\n",
    "\n",
    "class Book(pydantic.BaseModel):\n",
    "    \"\"\"Represents a book with that you can read from a JSON file.\"\"\"\n",
    "\n",
    "    title: str\n",
    "    author: str\n",
    "    publisher: str\n",
    "    price: float\n",
    "    isbn_10: Optional[str]\n",
    "    isbn_13: Optional[str]\n",
    "    subtitle: Optional[str]\n",
    "    author2: Optional[Author]\n",
    "\n",
    "    @pydantic.root_validator(pre=True)\n",
    "    @classmethod\n",
    "    def check_isbn_10_or_13(cls, values):\n",
    "        \"\"\"Make sure there is either an isbn_10 or isbn_13 value defined\"\"\"\n",
    "        if \"isbn_10\" not in values and \"isbn_13\" not in values:\n",
    "            raise ISBNMissingError(\n",
    "                title=values[\"title\"],\n",
    "                message=\"Document should have either an ISBN10 or ISBN13\",\n",
    "            )\n",
    "        return values\n",
    "\n",
    "    @pydantic.validator(\"isbn_10\")\n",
    "    @classmethod\n",
    "    def isbn_10_valid(cls, value) -> None:\n",
    "        \"\"\"Validator to check whether ISBN10 is valid\"\"\"\n",
    "        chars = [c for c in value if c in \"0123456789Xx\"]\n",
    "        if len(chars) != 10:\n",
    "            raise ISBN10FormatError(value=value, message=\"ISBN10 should be 10 digits.\")\n",
    "\n",
    "        def char_to_int(char: str) -> int:\n",
    "            if char in \"Xx\":\n",
    "                return 10\n",
    "            return int(char)\n",
    "\n",
    "        if sum((10 - i) * char_to_int(x) for i, x in enumerate(chars)) % 11 != 0:\n",
    "            raise ISBN10FormatError(\n",
    "                value=value, message=\"ISBN10 digit sum should be divisible by 11.\"\n",
    "            )\n",
    "        return value\n",
    "\n",
    "    class Config:\n",
    "        \"\"\"Pydantic config class\"\"\"\n",
    "\n",
    "        allow_mutation = False\n",
    "        anystr_lower = True\n",
    "\n",
    "\n",
    "def main() -> None:\n",
    "    \"\"\"Main function.\"\"\"\n",
    "\n",
    "    data = json.loads(data_json)\n",
    "    books: List[Book] = [Book(**item) for item in data]\n",
    "    print(books[0])\n",
    "    print(books[0].dict(exclude={\"price\"}))\n",
    "    print(books[1].copy())\n",
    "    return \n",
    "\n",
    "    # Read data from a JSON file\n",
    "    with open(\"./data.json\") as file:\n",
    "        data = json.load(file)\n",
    "        books: List[Book] = [Book(**item) for item in data]\n",
    "        # print(books)\n",
    "        print(books[0])\n",
    "        # print(books[0].dict(exclude={\"price\"}))\n",
    "        # print(books[1].copy())\n",
    "\n",
    "\n",
    "if __name__ == \"__main__\":\n",
    "    main()\n"
   ]
  },
  {
   "cell_type": "markdown",
   "id": "7fe0565e-aafb-4b51-a830-7c7c0c857046",
   "metadata": {},
   "source": [
    "### data.json"
   ]
  },
  {
   "cell_type": "code",
   "execution_count": 18,
   "id": "b7f01180-6d57-493c-a949-e0aac4b69fc5",
   "metadata": {},
   "outputs": [],
   "source": [
    "data_json = '''[\n",
    "  {\n",
    "    \"title\": \"Zero to One\",\n",
    "    \"subtitle\": \"Notes on Startups, or How to Build the Future\",\n",
    "    \"author\": \"Peter Thiel\",\n",
    "    \"publisher\": \"Ballantine Books\",\n",
    "    \"isbn_10\": \"0753555190\",\n",
    "    \"isbn_13\": \"978-0753555194\",\n",
    "    \"price\": 14.29,\n",
    "    \"author2\": {\n",
    "      \"name\": \"Peter Thiel\",\n",
    "      \"verified\": true\n",
    "    }\n",
    "  },\n",
    "  {\n",
    "    \"title\": \"The Lean Startup\",\n",
    "    \"subtitle\": \"How Relentless Change Creates Radically Successful Businesses\",\n",
    "    \"author\": \"Eric Ries\",\n",
    "    \"publisher\": \"Penguin UK\",\n",
    "    \"isbn_10\": \"0670921602\",\n",
    "    \"isbn_13\": \"978-0670921607\",\n",
    "    \"price\": 12.96\n",
    "  },\n",
    "  {\n",
    "    \"title\": \"A Promised Land\",\n",
    "    \"author\": \"Barack Obama\",\n",
    "    \"publisher\": \"Viking UK\",\n",
    "    \"isbn_10\": \"0241491517\",\n",
    "    \"isbn_13\": \"978-0241491515\",\n",
    "    \"price\": 31.74\n",
    "  },\n",
    "  {\n",
    "    \"title\": \"The Hard Thing about Hard Things\",\n",
    "    \"subtitle\": \"Building a Business When There Are No Easy Answers\",\n",
    "    \"author\": \"Ben Horowitz\",\n",
    "    \"publisher\": \"HarperBusiness\",\n",
    "    \"isbn_10\": \"0062273205\",\n",
    "    \"isbn_13\": \"978-0062273208\",\n",
    "    \"price\": 15.55\n",
    "  },\n",
    "  {\n",
    "    \"title\": \"Design patterns\",\n",
    "    \"subtitle\": \"Elements of reusable object-oriented software\",\n",
    "    \"author\": \"Erich Gamma, Richard Helm, Ralph Johnson, John Vlissides\",\n",
    "    \"publisher\": \"Addison Wesley\",\n",
    "    \"isbn_10\": \"0201633612\",\n",
    "    \"isbn_13\": \"978-0201633610\",\n",
    "    \"price\": 50\n",
    "  },\n",
    "  {\n",
    "    \"title\": \"Clean Code\",\n",
    "    \"subtitle\": \"A Handbook of Agile Software Craftsmanship\",\n",
    "    \"author\": \"Robert Martin\",\n",
    "    \"publisher\": \"Financial Times Prentice Hall\",\n",
    "    \"isbn_10\": \"0132350882\",\n",
    "    \"isbn_13\": \"978-0132350884\",\n",
    "    \"price\": 33.43\n",
    "  }\n",
    "]\n",
    "'''"
   ]
  },
  {
   "cell_type": "markdown",
   "id": "0fc36284-768a-4f51-a744-83a863aca52e",
   "metadata": {
    "jupyter": {
     "source_hidden": true
    },
    "tags": []
   },
   "source": [
    "## does dataclass support slots?"
   ]
  },
  {
   "cell_type": "code",
   "execution_count": 7,
   "id": "e087a53a-691b-4f57-a319-dc0cd2049a7c",
   "metadata": {},
   "outputs": [],
   "source": [
    "from dataclasses import dataclass, field, astuple, asdict"
   ]
  },
  {
   "cell_type": "code",
   "execution_count": 9,
   "id": "fab79be0-93ff-4058-8c71-5d3c4f72c050",
   "metadata": {
    "tags": []
   },
   "outputs": [],
   "source": [
    "@dataclass(frozen=True, order=True)\n",
    "class Comment:\n",
    "    id: int\n",
    "    text: str = \"\"\n",
    "    replies: list[int] = field(default_factory=list)"
   ]
  },
  {
   "cell_type": "markdown",
   "id": "3189f462-7e26-41d2-80d2-075ace369dc2",
   "metadata": {},
   "source": [
    "* use **default_factory** for mutable defaults\n",
    "  * replies: list[int] = field(default_factory=List)"
   ]
  },
  {
   "cell_type": "markdown",
   "id": "8778ea63-743d-4b14-9714-28107558a3c0",
   "metadata": {},
   "source": [
    "## attr\n",
    "* has slots"
   ]
  },
  {
   "cell_type": "markdown",
   "id": "9b1c1cc0-3c6d-4524-b166-309ac6034f2e",
   "metadata": {},
   "source": [
    "### pydantic\n"
   ]
  },
  {
   "cell_type": "code",
   "execution_count": null,
   "id": "d6b7abea-3798-41cf-a9ac-d56b9a4cdf15",
   "metadata": {},
   "outputs": [],
   "source": []
  }
 ],
 "metadata": {
  "kernelspec": {
   "display_name": "cv-venv",
   "language": "python",
   "name": "cv-venv"
  },
  "language_info": {
   "codemirror_mode": {
    "name": "ipython",
    "version": 3
   },
   "file_extension": ".py",
   "mimetype": "text/x-python",
   "name": "python",
   "nbconvert_exporter": "python",
   "pygments_lexer": "ipython3",
   "version": "3.9.7"
  }
 },
 "nbformat": 4,
 "nbformat_minor": 5
}
