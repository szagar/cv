{
 "cells": [
  {
   "cell_type": "code",
   "execution_count": null,
   "id": "ae4adcb0-2cd3-4601-b1d5-f653b7cef87e",
   "metadata": {},
   "outputs": [],
   "source": []
  },
  {
   "cell_type": "code",
   "execution_count": null,
   "id": "8f2bef97-cdda-40e0-92ac-f14a3595d6a6",
   "metadata": {},
   "outputs": [],
   "source": []
  },
  {
   "cell_type": "code",
   "execution_count": 118,
   "id": "44fea6f0-44e3-4782-95e4-7a2ab161b4e0",
   "metadata": {
    "tags": []
   },
   "outputs": [],
   "source": [
    "def is_kang_word(word,kang) -> bool:\n",
    "    word = word.upper()\n",
    "    kang = kang.upper()\n",
    "    if len(word) == len(kang): return False\n",
    "    k_ptr = w_ptr = 0\n",
    "    while True:\n",
    "        if kang[k_ptr] == word[w_ptr]:\n",
    "            k_ptr += 1\n",
    "        w_ptr += 1\n",
    "        if k_ptr == len(kang): \n",
    "            return True\n",
    "        if w_ptr == len(word): break\n",
    "    return False"
   ]
  },
  {
   "cell_type": "code",
   "execution_count": 121,
   "id": "1199cbda-3d16-4582-9231-6a76a1b96e91",
   "metadata": {
    "tags": []
   },
   "outputs": [],
   "source": [
    "import re\n",
    "def is_kang_word(word,kang) -> bool:\n",
    "    if len(word) == len(kang): return False\n",
    "    return re.match(f\".*{'.*'.join(kang)}.*\",word)"
   ]
  },
  {
   "cell_type": "code",
   "execution_count": 89,
   "id": "a743af37-f1fa-424c-a28d-5a387685dcf2",
   "metadata": {
    "jupyter": {
     "source_hidden": true
    },
    "tags": []
   },
   "outputs": [],
   "source": [
    "import re\n",
    "def is_kang_word(word,kang):\n",
    "    pattern = f'.*{\".*\".join(kang)}.*'\n",
    "    return re.match(pattern,word) and len(word) != len(kang)"
   ]
  },
  {
   "cell_type": "code",
   "execution_count": 122,
   "id": "df4c5de1-5ba6-49d7-bc51-cd799e0dd2ca",
   "metadata": {
    "collapsed": true,
    "jupyter": {
     "outputs_hidden": true
    },
    "tags": []
   },
   "outputs": [
    {
     "name": "stdout",
     "output_type": "stream",
     "text": [
      "FOOTBALL is a kangaroo word for BALL\n",
      "ALE is not a kangaroo word for APPLE\n",
      "APPLE is a kangaroo word for ALE\n",
      "CLEMSON is a kangaroo word for SON\n",
      "ALLOCATE is a kangaroo word for ALLOT\n",
      "MERCER is not a kangaroo word for CERR\n",
      "BITCH is not a kangaroo word for BITCH\n",
      "EEEEEEEE is a kangaroo word for EEEEEEE\n"
     ]
    }
   ],
   "source": [
    "for word,kang in kang_pairs:\n",
    "    is_or_not = \" not \"\n",
    "    if is_kang_word(word.upper(), kang.upper()):\n",
    "        is_or_not = \" \"\n",
    "    print(f\"{word.upper()} is{is_or_not}a kangaroo word for {kang.upper()}\")"
   ]
  }
 ],
 "metadata": {
  "kernelspec": {
   "display_name": "venv",
   "language": "python",
   "name": "venv"
  },
  "language_info": {
   "codemirror_mode": {
    "name": "ipython",
    "version": 3
   },
   "file_extension": ".py",
   "mimetype": "text/x-python",
   "name": "python",
   "nbconvert_exporter": "python",
   "pygments_lexer": "ipython3",
   "version": "3.9.7"
  }
 },
 "nbformat": 4,
 "nbformat_minor": 5
}
