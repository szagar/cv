{
 "cells": [
  {
   "cell_type": "markdown",
   "id": "2c037314-d483-41b4-912a-a86139a921ea",
   "metadata": {},
   "source": [
    "# pyscript notes\n",
    "> pyscript, wow.\n",
    "\n",
    "- toc: true\n",
    "- branch: master\n",
    "- badges: true\n",
    "- comments: true\n",
    "- author: Stephen Zagar\n",
    "- categories: [development, python, web, pyscript]"
   ]
  },
  {
   "cell_type": "markdown",
   "id": "419b23fc-24dd-44c2-89c7-d858c2dabd61",
   "metadata": {},
   "source": [
    "### Articles\n",
    "* [Real Python - A First Look at PyScript: Python in the Web Browser](https://realpython.com/pyscript-python-in-browser/)"
   ]
  },
  {
   "cell_type": "code",
   "execution_count": null,
   "id": "83387e4a-f149-4b93-9102-493db8280671",
   "metadata": {},
   "outputs": [],
   "source": []
  }
 ],
 "metadata": {
  "kernelspec": {
   "display_name": "cv-venv",
   "language": "python",
   "name": "cv-venv"
  },
  "language_info": {
   "codemirror_mode": {
    "name": "ipython",
    "version": 3
   },
   "file_extension": ".py",
   "mimetype": "text/x-python",
   "name": "python",
   "nbconvert_exporter": "python",
   "pygments_lexer": "ipython3",
   "version": "3.9.7"
  }
 },
 "nbformat": 4,
 "nbformat_minor": 5
}
