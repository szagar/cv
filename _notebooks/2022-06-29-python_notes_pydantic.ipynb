{
 "cells": [
  {
   "cell_type": "markdown",
   "id": "2c037314-d483-41b4-912a-a86139a921ea",
   "metadata": {},
   "source": [
    "# Dataclass Notes\n",
    "> Notes that may be useful when coding.\n",
    "\n",
    "- toc: true\n",
    "- branch: master\n",
    "- badges: true\n",
    "- comments: true\n",
    "- author: Stephen Zagar\n",
    "- categories: [development, notes, python, dataclass]"
   ]
  },
  {
   "cell_type": "markdown",
   "id": "0fc36284-768a-4f51-a744-83a863aca52e",
   "metadata": {},
   "source": [
    "## does dataclass support slots?"
   ]
  },
  {
   "cell_type": "code",
   "execution_count": 7,
   "id": "e087a53a-691b-4f57-a319-dc0cd2049a7c",
   "metadata": {},
   "outputs": [],
   "source": [
    "from dataclasses import dataclass, field, astuple, asdict"
   ]
  },
  {
   "cell_type": "code",
   "execution_count": 9,
   "id": "fab79be0-93ff-4058-8c71-5d3c4f72c050",
   "metadata": {
    "tags": []
   },
   "outputs": [],
   "source": [
    "@dataclass(frozen=True, order=True)\n",
    "class Comment:\n",
    "    id: int\n",
    "    text: str = \"\"\n",
    "    replies: list[int] = field(default_factory=list)"
   ]
  },
  {
   "cell_type": "markdown",
   "id": "3189f462-7e26-41d2-80d2-075ace369dc2",
   "metadata": {},
   "source": [
    "* use **default_factory** for mutable defaults\n",
    "  * replies: list[int] = field(default_factory=List)"
   ]
  },
  {
   "cell_type": "markdown",
   "id": "8778ea63-743d-4b14-9714-28107558a3c0",
   "metadata": {},
   "source": [
    "## attr\n",
    "* has slots"
   ]
  },
  {
   "cell_type": "markdown",
   "id": "9b1c1cc0-3c6d-4524-b166-309ac6034f2e",
   "metadata": {},
   "source": [
    "### pydantic\n"
   ]
  },
  {
   "cell_type": "code",
   "execution_count": null,
   "id": "d6b7abea-3798-41cf-a9ac-d56b9a4cdf15",
   "metadata": {},
   "outputs": [],
   "source": []
  }
 ],
 "metadata": {
  "kernelspec": {
   "display_name": "cv-venv",
   "language": "python",
   "name": "cv-venv"
  },
  "language_info": {
   "codemirror_mode": {
    "name": "ipython",
    "version": 3
   },
   "file_extension": ".py",
   "mimetype": "text/x-python",
   "name": "python",
   "nbconvert_exporter": "python",
   "pygments_lexer": "ipython3",
   "version": "3.9.7"
  }
 },
 "nbformat": 4,
 "nbformat_minor": 5
}
