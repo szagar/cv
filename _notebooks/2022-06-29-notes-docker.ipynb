{
 "cells": [
  {
   "cell_type": "markdown",
   "id": "2c037314-d483-41b4-912a-a86139a921ea",
   "metadata": {},
   "source": [
    "# Docker notes\n",
    "\n",
    "> Notes on setting up docker.\n",
    "\n",
    "- toc: true\n",
    "- branch: master\n",
    "- badges: true\n",
    "- comments: true\n",
    "- author: Stephen Zagar\n",
    "- categories: [development, notes, deployment, docker]"
   ]
  },
  {
   "cell_type": "markdown",
   "id": "49d19d9e-526d-4663-8774-7ea8f796084c",
   "metadata": {},
   "source": [
    "### Docker Hun\n",
    "* szagr / "
   ]
  },
  {
   "cell_type": "markdown",
   "id": "074a9a6f-6042-48db-b9ed-90fd1d39221b",
   "metadata": {},
   "source": [
    "### Building images"
   ]
  },
  {
   "cell_type": "raw",
   "id": "62c06ae6-fb7b-4896-a65e-1a591f1a8278",
   "metadata": {},
   "source": [
    "# Dockerfile\n",
    "FROM ubuntu\n",
    "RUN apt update && apt install -y cowsay\n",
    "CMD [\"/usr/games/cowsay\", \"Dockerfiles are cool!\"]"
   ]
  },
  {
   "cell_type": "raw",
   "id": "20366c10-a04b-4a09-aec9-90a4eeadf2d8",
   "metadata": {},
   "source": [
    "# Dockerfile\n",
    "FROM python 3.7.5-slim\n",
    "RUN python -m pip install \\\n",
    "        parse \\\n",
    "        realpython-reader"
   ]
  },
  {
   "cell_type": "markdown",
   "id": "c358124d-f50f-4f6c-94b8-b8eb8d697a3d",
   "metadata": {},
   "source": [
    "### REPL\n",
    "  * -it needed to run container interactively\n",
    "> **$ docker run -it --rm python:rc**"
   ]
  },
  {
   "cell_type": "markdown",
   "id": "34417474-aecb-45ce-a4bb-cc7f5e929222",
   "metadata": {},
   "source": [
    "### Docker CLI\n",
    "* **docker --help**\n",
    "* Build an image from Dockerfile\n",
    "  * with cowsay tag, usiner Dockerfile in current dir\n",
    "  > **$ docker build -t cowsay .**\n",
    "\n",
    "* List images\n",
    "> **$ docker images ps -a**\n",
    "\n",
    "* List containers\n",
    "> **$ docker docker ps -a**\n",
    "\n",
    "* Run the image\n",
    "  * -rm cleans up container afer use\n",
    "> **$ docker run -rm cowsay**\n",
    "\n",
    "* Delete image\n",
    "> **$ docker rmi <image_id>**\n",
    "\n",
    "* Delete container\n",
    "> **$ docker rm <container_id>**"
   ]
  },
  {
   "cell_type": "code",
   "execution_count": null,
   "id": "3117783a-7994-459e-8e56-adad5782a42e",
   "metadata": {},
   "outputs": [],
   "source": []
  }
 ],
 "metadata": {
  "kernelspec": {
   "display_name": "cv-venv",
   "language": "python",
   "name": "cv-venv"
  },
  "language_info": {
   "codemirror_mode": {
    "name": "ipython",
    "version": 3
   },
   "file_extension": ".py",
   "mimetype": "text/x-python",
   "name": "python",
   "nbconvert_exporter": "python",
   "pygments_lexer": "ipython3",
   "version": "3.9.7"
  }
 },
 "nbformat": 4,
 "nbformat_minor": 5
}
