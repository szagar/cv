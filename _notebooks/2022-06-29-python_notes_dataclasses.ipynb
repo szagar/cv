{
 "cells": [
  {
   "cell_type": "markdown",
   "id": "2c037314-d483-41b4-912a-a86139a921ea",
   "metadata": {},
   "source": [
    "# pydantic notes\n",
    "> Notes that may be useful when coding.\n",
    "\n",
    "- toc: true\n",
    "- branch: master\n",
    "- badges: true\n",
    "- comments: true\n",
    "- author: Stephen Zagar\n",
    "- categories: [development, notes, python, pydantic]"
   ]
  },
  {
   "cell_type": "markdown",
   "id": "9b1c1cc0-3c6d-4524-b166-309ac6034f2e",
   "metadata": {},
   "source": [
    "### pydantic\n"
   ]
  },
  {
   "cell_type": "code",
   "execution_count": 24,
   "id": "d6b7abea-3798-41cf-a9ac-d56b9a4cdf15",
   "metadata": {},
   "outputs": [
    {
     "name": "stdout",
     "output_type": "stream",
     "text": [
      "title='zero to one' author='peter thiel' publisher='ballantine books' price=14.29 isbn_10='0753555190' isbn_13='978-0753555194' subtitle='notes on startups, or how to build the future' author2=Author(name='Peter Thiel', verified=True)\n",
      "{'title': 'zero to one', 'author': 'peter thiel', 'publisher': 'ballantine books', 'isbn_10': '0753555190', 'isbn_13': '978-0753555194', 'subtitle': 'notes on startups, or how to build the future', 'author2': {'name': 'Peter Thiel', 'verified': True}}\n",
      "title='the lean startup' author='eric ries' publisher='penguin uk' price=12.96 isbn_10='0670921602' isbn_13='978-0670921607' subtitle='how relentless change creates radically successful businesses' author2=None\n"
     ]
    }
   ],
   "source": [
    "\"\"\"\n",
    "Basic example showing how to read and validate data from a file using Pydantic.\n",
    "\"\"\"\n",
    "\n",
    "import json\n",
    "from typing import List, Optional\n",
    "\n",
    "import pydantic\n",
    "\n",
    "\n",
    "class ISBNMissingError(Exception):\n",
    "    \"\"\"Custom error that is raised when both ISBN10 and ISBN13 are missing.\"\"\"\n",
    "\n",
    "    def __init__(self, title: str, message: str) -> None:\n",
    "        self.title = title\n",
    "        self.message = message\n",
    "        super().__init__(message)\n",
    "\n",
    "\n",
    "class ISBN10FormatError(Exception):\n",
    "    \"\"\"Custom error that is raised when ISBN10 doesn't have the right format.\"\"\"\n",
    "\n",
    "    def __init__(self, value: str, message: str) -> None:\n",
    "        self.value = value\n",
    "        self.message = message\n",
    "        super().__init__(message)\n",
    "\n",
    "\n",
    "class Author(pydantic.BaseModel):\n",
    "    name: str\n",
    "    verified: bool\n",
    "\n",
    "\n",
    "class Book(pydantic.BaseModel):\n",
    "    \"\"\"Represents a book with that you can read from a JSON file.\"\"\"\n",
    "\n",
    "    title: str\n",
    "    author: str\n",
    "    publisher: str\n",
    "    price: float\n",
    "    isbn_10: Optional[str]\n",
    "    isbn_13: Optional[str]\n",
    "    subtitle: Optional[str]\n",
    "    author2: Optional[Author]\n",
    "\n",
    "    @pydantic.root_validator(pre=True)\n",
    "    @classmethod\n",
    "    def check_isbn_10_or_13(cls, values):\n",
    "        \"\"\"Make sure there is either an isbn_10 or isbn_13 value defined\"\"\"\n",
    "        if \"isbn_10\" not in values and \"isbn_13\" not in values:\n",
    "            raise ISBNMissingError(\n",
    "                title=values[\"title\"],\n",
    "                message=\"Document should have either an ISBN10 or ISBN13\",\n",
    "            )\n",
    "        return values\n",
    "\n",
    "    @pydantic.validator(\"isbn_10\")\n",
    "    @classmethod\n",
    "    def isbn_10_valid(cls, value) -> None:\n",
    "        \"\"\"Validator to check whether ISBN10 is valid\"\"\"\n",
    "        chars = [c for c in value if c in \"0123456789Xx\"]\n",
    "        if len(chars) != 10:\n",
    "            raise ISBN10FormatError(value=value, message=\"ISBN10 should be 10 digits.\")\n",
    "\n",
    "        def char_to_int(char: str) -> int:\n",
    "            if char in \"Xx\":\n",
    "                return 10\n",
    "            return int(char)\n",
    "\n",
    "        if sum((10 - i) * char_to_int(x) for i, x in enumerate(chars)) % 11 != 0:\n",
    "            raise ISBN10FormatError(\n",
    "                value=value, message=\"ISBN10 digit sum should be divisible by 11.\"\n",
    "            )\n",
    "        return value\n",
    "\n",
    "    class Config:\n",
    "        \"\"\"Pydantic config class\"\"\"\n",
    "\n",
    "        allow_mutation = False\n",
    "        anystr_lower = True\n",
    "\n",
    "\n",
    "def main() -> None:\n",
    "    \"\"\"Main function.\"\"\"\n",
    "\n",
    "    data = json.loads(data_json)\n",
    "    books: List[Book] = [Book(**item) for item in data]\n",
    "    print(books[0])\n",
    "    print(books[0].dict(exclude={\"price\"}))\n",
    "    print(books[1].copy())\n",
    "    return \n",
    "\n",
    "    # Read data from a JSON file\n",
    "    with open(\"./data.json\") as file:\n",
    "        data = json.load(file)\n",
    "        books: List[Book] = [Book(**item) for item in data]\n",
    "        # print(books)\n",
    "        print(books[0])\n",
    "        # print(books[0].dict(exclude={\"price\"}))\n",
    "        # print(books[1].copy())\n",
    "\n",
    "\n",
    "if __name__ == \"__main__\":\n",
    "    main()\n"
   ]
  },
  {
   "cell_type": "code",
   "execution_count": 13,
   "id": "63193513-f346-4041-84d7-d280cdf39c45",
   "metadata": {},
   "outputs": [
    {
     "name": "stdout",
     "output_type": "stream",
     "text": [
      "Collecting pydantic\n",
      "  Downloading pydantic-1.9.1-cp39-cp39-macosx_10_9_x86_64.whl (3.0 MB)\n",
      "\u001b[2K     \u001b[90m━━━━━━━━━━━━━━━━━━━━━━━━━━━━━━━━━━━━━━━━\u001b[0m \u001b[32m3.0/3.0 MB\u001b[0m \u001b[31m18.3 MB/s\u001b[0m eta \u001b[36m0:00:00\u001b[0m00:01\u001b[0m00:01\u001b[0m\n",
      "\u001b[?25hCollecting typing-extensions>=3.7.4.3\n",
      "  Downloading typing_extensions-4.2.0-py3-none-any.whl (24 kB)\n",
      "Installing collected packages: typing-extensions, pydantic\n",
      "Successfully installed pydantic-1.9.1 typing-extensions-4.2.0\n",
      "\u001b[33mWARNING: There was an error checking the latest version of pip.\u001b[0m\u001b[33m\n",
      "\u001b[0m"
     ]
    }
   ],
   "source": [
    "!pip install pydantic"
   ]
  },
  {
   "cell_type": "markdown",
   "id": "c064142a-71e6-4ca9-aae5-9dd18862c444",
   "metadata": {},
   "source": [
    "### data.json"
   ]
  },
  {
   "cell_type": "code",
   "execution_count": 18,
   "id": "21d95684-4f43-45bb-8776-1ff462e322d0",
   "metadata": {},
   "outputs": [],
   "source": [
    "data_json = '''[\n",
    "  {\n",
    "    \"title\": \"Zero to One\",\n",
    "    \"subtitle\": \"Notes on Startups, or How to Build the Future\",\n",
    "    \"author\": \"Peter Thiel\",\n",
    "    \"publisher\": \"Ballantine Books\",\n",
    "    \"isbn_10\": \"0753555190\",\n",
    "    \"isbn_13\": \"978-0753555194\",\n",
    "    \"price\": 14.29,\n",
    "    \"author2\": {\n",
    "      \"name\": \"Peter Thiel\",\n",
    "      \"verified\": true\n",
    "    }\n",
    "  },\n",
    "  {\n",
    "    \"title\": \"The Lean Startup\",\n",
    "    \"subtitle\": \"How Relentless Change Creates Radically Successful Businesses\",\n",
    "    \"author\": \"Eric Ries\",\n",
    "    \"publisher\": \"Penguin UK\",\n",
    "    \"isbn_10\": \"0670921602\",\n",
    "    \"isbn_13\": \"978-0670921607\",\n",
    "    \"price\": 12.96\n",
    "  },\n",
    "  {\n",
    "    \"title\": \"A Promised Land\",\n",
    "    \"author\": \"Barack Obama\",\n",
    "    \"publisher\": \"Viking UK\",\n",
    "    \"isbn_10\": \"0241491517\",\n",
    "    \"isbn_13\": \"978-0241491515\",\n",
    "    \"price\": 31.74\n",
    "  },\n",
    "  {\n",
    "    \"title\": \"The Hard Thing about Hard Things\",\n",
    "    \"subtitle\": \"Building a Business When There Are No Easy Answers\",\n",
    "    \"author\": \"Ben Horowitz\",\n",
    "    \"publisher\": \"HarperBusiness\",\n",
    "    \"isbn_10\": \"0062273205\",\n",
    "    \"isbn_13\": \"978-0062273208\",\n",
    "    \"price\": 15.55\n",
    "  },\n",
    "  {\n",
    "    \"title\": \"Design patterns\",\n",
    "    \"subtitle\": \"Elements of reusable object-oriented software\",\n",
    "    \"author\": \"Erich Gamma, Richard Helm, Ralph Johnson, John Vlissides\",\n",
    "    \"publisher\": \"Addison Wesley\",\n",
    "    \"isbn_10\": \"0201633612\",\n",
    "    \"isbn_13\": \"978-0201633610\",\n",
    "    \"price\": 50\n",
    "  },\n",
    "  {\n",
    "    \"title\": \"Clean Code\",\n",
    "    \"subtitle\": \"A Handbook of Agile Software Craftsmanship\",\n",
    "    \"author\": \"Robert Martin\",\n",
    "    \"publisher\": \"Financial Times Prentice Hall\",\n",
    "    \"isbn_10\": \"0132350882\",\n",
    "    \"isbn_13\": \"978-0132350884\",\n",
    "    \"price\": 33.43\n",
    "  }\n",
    "]\n",
    "'''"
   ]
  },
  {
   "cell_type": "code",
   "execution_count": 30,
   "id": "e33ad8c9-cd2a-444e-89b9-73ea575138c3",
   "metadata": {},
   "outputs": [],
   "source": [
    "a = b'test bin'"
   ]
  },
  {
   "cell_type": "code",
   "execution_count": 31,
   "id": "c88f62d9-b28e-4b44-8695-22d1031b99a3",
   "metadata": {},
   "outputs": [
    {
     "data": {
      "text/plain": [
       "b'test bin'"
      ]
     },
     "execution_count": 31,
     "metadata": {},
     "output_type": "execute_result"
    }
   ],
   "source": [
    "a"
   ]
  },
  {
   "cell_type": "code",
   "execution_count": 32,
   "id": "322d7674-3c8f-490b-b038-f15f64cf5b83",
   "metadata": {},
   "outputs": [
    {
     "data": {
      "text/plain": [
       "bytes"
      ]
     },
     "execution_count": 32,
     "metadata": {},
     "output_type": "execute_result"
    }
   ],
   "source": [
    "type(a)"
   ]
  },
  {
   "cell_type": "code",
   "execution_count": 38,
   "id": "31f1a5f2-3252-4766-812d-3c90337bcd89",
   "metadata": {},
   "outputs": [
    {
     "data": {
      "text/plain": [
       "True"
      ]
     },
     "execution_count": 38,
     "metadata": {},
     "output_type": "execute_result"
    }
   ],
   "source": [
    "a == b'test bin'"
   ]
  },
  {
   "cell_type": "code",
   "execution_count": 40,
   "id": "dbc4562c-7a1f-4558-85b0-184cb271e257",
   "metadata": {},
   "outputs": [
    {
     "data": {
      "text/plain": [
       "False"
      ]
     },
     "execution_count": 40,
     "metadata": {},
     "output_type": "execute_result"
    }
   ],
   "source": [
    "str(a) == 'test bin'"
   ]
  },
  {
   "cell_type": "code",
   "execution_count": 41,
   "id": "37ff0a3d-03c6-46a1-a337-4e01b4712dd5",
   "metadata": {},
   "outputs": [
    {
     "ename": "NameError",
     "evalue": "name 'b' is not defined",
     "output_type": "error",
     "traceback": [
      "\u001b[0;31m---------------------------------------------------------------------------\u001b[0m",
      "\u001b[0;31mNameError\u001b[0m                                 Traceback (most recent call last)",
      "Input \u001b[0;32mIn [41]\u001b[0m, in \u001b[0;36m<cell line: 1>\u001b[0;34m()\u001b[0m\n\u001b[0;32m----> 1\u001b[0m x \u001b[38;5;241m=\u001b[39m \u001b[43mb\u001b[49m(a)\n",
      "\u001b[0;31mNameError\u001b[0m: name 'b' is not defined"
     ]
    }
   ],
   "source": []
  },
  {
   "cell_type": "code",
   "execution_count": null,
   "id": "20dd20d6-fee6-4cd7-8700-62bf4a5b4449",
   "metadata": {},
   "outputs": [],
   "source": []
  }
 ],
 "metadata": {
  "kernelspec": {
   "display_name": "cv-venv",
   "language": "python",
   "name": "cv-venv"
  },
  "language_info": {
   "codemirror_mode": {
    "name": "ipython",
    "version": 3
   },
   "file_extension": ".py",
   "mimetype": "text/x-python",
   "name": "python",
   "nbconvert_exporter": "python",
   "pygments_lexer": "ipython3",
   "version": "3.9.7"
  }
 },
 "nbformat": 4,
 "nbformat_minor": 5
}
