{
 "cells": [
  {
   "cell_type": "markdown",
   "id": "e281d1b3-5e90-451e-953b-544b882e7866",
   "metadata": {},
   "source": [
    "# Fastpages notes\n",
    "> some more notes.\n",
    "\n",
    "- toc: true\n",
    "- branch: master\n",
    "- badges: true\n",
    "- comments: true\n",
    "- author: Stephen Zagar\n",
    "- categories: [fastpages, jupyter]"
   ]
  },
  {
   "cell_type": "markdown",
   "id": "4147c0e4-e5a5-44ba-ae4c-9d67fdde96d9",
   "metadata": {},
   "source": [
    "## Fastpages"
   ]
  },
  {
   "cell_type": "markdown",
   "id": "fb0c4704-0a55-40cd-a09e-e987e3aa9e1d",
   "metadata": {},
   "source": [
    "* [fastai forums](https://forums.fast.ai/)\n",
    "* [fastpages repo](https://github.com/fastai/fastpages/)\n",
    "* [repo README](https://github.com/fastai/fastpages/blob/master/README.md)\n",
    "* [upgrading guide](https://github.com/fastai/fastpages/blob/master/_fastpages_docs/UPGRADE.md)"
   ]
  },
  {
   "cell_type": "markdown",
   "id": "25f5be71-e09b-48b6-a596-62178dec8353",
   "metadata": {},
   "source": [
    "Fastpages, developing locally"
   ]
  },
  {
   "cell_type": "markdown",
   "id": "4143306d-0a0c-4315-8f23-dcd41173f35b",
   "metadata": {},
   "source": [
    "* [Run server locally](https://github.com/szagar/cv/blob/master/_fastpages_docs/DEVELOPMENT.md)\n",
    "    * Pay attention to the emitted logs when you save your notebooks or files. Often, you will see errors here that will give you important clues.\n",
    "* When developing locally Jupyter notebooks are converted to markdown files in the _posts folder. Take a look at the problematic blog posts and see if you can spot the offending HTML or markdown in that code.\n",
    "\n",
    "* Use your browser's developer tools to see if there are any errors. Common errors are: \n",
    "  1. not able to find images because they have not been saved into the right folder,\n",
    "  2. javascript or other errors.\n",
    "* If you receive a Jekyll build error or a Liquid error, search for this error on Stack Overflow to provide more insight on the problem"
   ]
  },
  {
   "cell_type": "markdown",
   "id": "ad651f30-c479-47f0-8c88-02b567f8305b",
   "metadata": {},
   "source": [
    "#### Frequent Errors"
   ]
  },
  {
   "cell_type": "markdown",
   "id": "36708fd3-67ca-4a3d-bce2-f5e5aa95dfeb",
   "metadata": {
    "tags": []
   },
   "source": [
    "* Malformed front matter\n",
    "  - must be valid YAML\n",
    "  - escape special chars with double quotes <br> `- title: \"Deep learning: A tutorial\"`\n",
    "  - [YAML tutorial](https://rollout.io/blog/yaml-tutorial-everything-you-need-get-started/)\n",
    "* [FAQ](https://github.com/fastai/fastpages#faq)"
   ]
  },
  {
   "cell_type": "markdown",
   "id": "63a04bae-07fb-40cf-ab75-07771100a125",
   "metadata": {},
   "source": [
    "#### [Customize Fastpages](https://github.com/fastai/fastpages#customizing-fastpages)"
   ]
  },
  {
   "cell_type": "markdown",
   "id": "29415384-57eb-45f5-9b8d-d401cd02adb5",
   "metadata": {},
   "source": [
    "* [minima theme](https://github.com/jekyll/minima)"
   ]
  },
  {
   "cell_type": "code",
   "execution_count": null,
   "id": "5c1e7452-bd61-4a8a-bdaa-886f7287a384",
   "metadata": {},
   "outputs": [],
   "source": []
  }
 ],
 "metadata": {
  "kernelspec": {
   "display_name": "cv-venv",
   "language": "python",
   "name": "cv-venv"
  },
  "language_info": {
   "codemirror_mode": {
    "name": "ipython",
    "version": 3
   },
   "file_extension": ".py",
   "mimetype": "text/x-python",
   "name": "python",
   "nbconvert_exporter": "python",
   "pygments_lexer": "ipython3",
   "version": "3.9.7"
  }
 },
 "nbformat": 4,
 "nbformat_minor": 5
}
