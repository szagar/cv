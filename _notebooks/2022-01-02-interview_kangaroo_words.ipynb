{
 "cells": [
  {
   "cell_type": "markdown",
   "id": "33aa2e3f-e580-4b0c-b726-bcf20ee74b26",
   "metadata": {},
   "source": [
    "# Interview - Kangaroo Words\n",
    "> A tutorial of fastpages for Jupyter notebooks.\n",
    "\n",
    "- toc: true \n",
    "- badges: true\n",
    "- comments: true\n",
    "- categories: [interview]\n",
    "- image: images/chart-preview.png"
   ]
  },
  {
   "cell_type": "code",
   "execution_count": null,
   "id": "8f2bef97-cdda-40e0-92ac-f14a3595d6a6",
   "metadata": {},
   "outputs": [],
   "source": []
  },
  {
   "cell_type": "code",
   "execution_count": 118,
   "id": "44fea6f0-44e3-4782-95e4-7a2ab161b4e0",
   "metadata": {
    "tags": []
   },
   "outputs": [],
   "source": [
    "def is_kang_word(word,kang) -> bool:\n",
    "    word = word.upper()\n",
    "    kang = kang.upper()\n",
    "    if len(word) == len(kang): return False\n",
    "    k_ptr = w_ptr = 0\n",
    "    while True:\n",
    "        if kang[k_ptr] == word[w_ptr]:\n",
    "            k_ptr += 1\n",
    "        w_ptr += 1\n",
    "        if k_ptr == len(kang): \n",
    "            return True\n",
    "        if w_ptr == len(word): break\n",
    "    return False"
   ]
  },
  {
   "cell_type": "code",
   "execution_count": null,
   "id": "6e036051-14c6-4c3d-9b81-4b534e484711",
   "metadata": {},
   "outputs": [],
   "source": []
  },
  {
   "cell_type": "code",
   "execution_count": 121,
   "id": "1199cbda-3d16-4582-9231-6a76a1b96e91",
   "metadata": {
    "tags": []
   },
   "outputs": [],
   "source": [
    "import re\n",
    "def is_kang_word(word,kang) -> bool:\n",
    "    if len(word) == len(kang): return False\n",
    "    return re.match(f\".*{'.*'.join(kang)}.*\",word)"
   ]
  },
  {
   "cell_type": "code",
   "execution_count": 89,
   "id": "a743af37-f1fa-424c-a28d-5a387685dcf2",
   "metadata": {
    "jupyter": {
     "source_hidden": true
    },
    "tags": []
   },
   "outputs": [],
   "source": [
    "import re\n",
    "def is_kang_word(word,kang):\n",
    "    pattern = f'.*{\".*\".join(kang)}.*'\n",
    "    return re.match(pattern,word) and len(word) != len(kang)"
   ]
  },
  {
   "cell_type": "code",
   "execution_count": 122,
   "id": "df4c5de1-5ba6-49d7-bc51-cd799e0dd2ca",
   "metadata": {
    "collapsed": true,
    "jupyter": {
     "outputs_hidden": true
    },
    "tags": []
   },
   "outputs": [
    {
     "name": "stdout",
     "output_type": "stream",
     "text": [
      "FOOTBALL is a kangaroo word for BALL\n",
      "ALE is not a kangaroo word for APPLE\n",
      "APPLE is a kangaroo word for ALE\n",
      "CLEMSON is a kangaroo word for SON\n",
      "ALLOCATE is a kangaroo word for ALLOT\n",
      "MERCER is not a kangaroo word for CERR\n",
      "BITCH is not a kangaroo word for BITCH\n",
      "EEEEEEEE is a kangaroo word for EEEEEEE\n"
     ]
    }
   ],
   "source": [
    "for word,kang in kang_pairs:\n",
    "    is_or_not = \" not \"\n",
    "    if is_kang_word(word.upper(), kang.upper()):\n",
    "        is_or_not = \" \"\n",
    "    print(f\"{word.upper()} is{is_or_not}a kangaroo word for {kang.upper()}\")"
   ]
  },
  {
   "cell_type": "code",
   "execution_count": 1,
   "id": "c0d8d62f-3941-436d-885c-7560d9ff3852",
   "metadata": {},
   "outputs": [],
   "source": [
    "import numpy as np"
   ]
  },
  {
   "cell_type": "code",
   "execution_count": 16,
   "id": "064079a6-2f43-4860-b6f6-76c0b21cbec3",
   "metadata": {},
   "outputs": [],
   "source": [
    "nar1 = np.array([1,3,2])"
   ]
  },
  {
   "cell_type": "code",
   "execution_count": 8,
   "id": "c98ab76f-e55a-4423-9295-2798547823e0",
   "metadata": {},
   "outputs": [
    {
     "data": {
      "text/plain": [
       "array([1, 3, 2])"
      ]
     },
     "execution_count": 8,
     "metadata": {},
     "output_type": "execute_result"
    }
   ],
   "source": [
    "nar"
   ]
  },
  {
   "cell_type": "code",
   "execution_count": 9,
   "id": "6bd0832d-c58a-404f-a468-07928de10d03",
   "metadata": {},
   "outputs": [
    {
     "data": {
      "text/plain": [
       "6"
      ]
     },
     "execution_count": 9,
     "metadata": {},
     "output_type": "execute_result"
    }
   ],
   "source": [
    "nar.sum()"
   ]
  },
  {
   "cell_type": "code",
   "execution_count": 17,
   "id": "156e9335-9f8b-4c63-a323-cc16202b72d5",
   "metadata": {},
   "outputs": [],
   "source": [
    "nar2 = np.array([4,6,5])"
   ]
  },
  {
   "cell_type": "code",
   "execution_count": 13,
   "id": "c60f48e7-0d28-4d45-9132-197b2e4aed09",
   "metadata": {},
   "outputs": [],
   "source": [
    "import pandas as pd"
   ]
  },
  {
   "cell_type": "code",
   "execution_count": 14,
   "id": "206943b8-2a4f-4b36-98e9-65493ffd0a31",
   "metadata": {},
   "outputs": [],
   "source": [
    "df = pd.Series(nar)"
   ]
  },
  {
   "cell_type": "code",
   "execution_count": 31,
   "id": "bc64ac7d-8a89-4e5b-80db-b27d0196d8bc",
   "metadata": {},
   "outputs": [],
   "source": [
    "df = pd.DataFrame([nar1,nar2],index=[100,200])"
   ]
  },
  {
   "cell_type": "code",
   "execution_count": 32,
   "id": "b571a8f5-d82d-4836-8d39-931046529041",
   "metadata": {},
   "outputs": [
    {
     "data": {
      "text/html": [
       "<div>\n",
       "<style scoped>\n",
       "    .dataframe tbody tr th:only-of-type {\n",
       "        vertical-align: middle;\n",
       "    }\n",
       "\n",
       "    .dataframe tbody tr th {\n",
       "        vertical-align: top;\n",
       "    }\n",
       "\n",
       "    .dataframe thead th {\n",
       "        text-align: right;\n",
       "    }\n",
       "</style>\n",
       "<table border=\"1\" class=\"dataframe\">\n",
       "  <thead>\n",
       "    <tr style=\"text-align: right;\">\n",
       "      <th></th>\n",
       "      <th>0</th>\n",
       "      <th>1</th>\n",
       "      <th>2</th>\n",
       "    </tr>\n",
       "  </thead>\n",
       "  <tbody>\n",
       "    <tr>\n",
       "      <th>100</th>\n",
       "      <td>1</td>\n",
       "      <td>3</td>\n",
       "      <td>2</td>\n",
       "    </tr>\n",
       "    <tr>\n",
       "      <th>200</th>\n",
       "      <td>4</td>\n",
       "      <td>6</td>\n",
       "      <td>5</td>\n",
       "    </tr>\n",
       "  </tbody>\n",
       "</table>\n",
       "</div>"
      ],
      "text/plain": [
       "     0  1  2\n",
       "100  1  3  2\n",
       "200  4  6  5"
      ]
     },
     "execution_count": 32,
     "metadata": {},
     "output_type": "execute_result"
    }
   ],
   "source": [
    "df"
   ]
  },
  {
   "cell_type": "code",
   "execution_count": 29,
   "id": "0b1b7c09-12c2-44a4-923d-9ac4d84f9f93",
   "metadata": {},
   "outputs": [],
   "source": [
    "df = pd.DataFrame({'c1': nar1, 'c2': nar2},index=['a','b','c'])"
   ]
  },
  {
   "cell_type": "code",
   "execution_count": 30,
   "id": "3676c87c-33f9-40d5-ba72-756b733cb398",
   "metadata": {},
   "outputs": [
    {
     "data": {
      "text/html": [
       "<div>\n",
       "<style scoped>\n",
       "    .dataframe tbody tr th:only-of-type {\n",
       "        vertical-align: middle;\n",
       "    }\n",
       "\n",
       "    .dataframe tbody tr th {\n",
       "        vertical-align: top;\n",
       "    }\n",
       "\n",
       "    .dataframe thead th {\n",
       "        text-align: right;\n",
       "    }\n",
       "</style>\n",
       "<table border=\"1\" class=\"dataframe\">\n",
       "  <thead>\n",
       "    <tr style=\"text-align: right;\">\n",
       "      <th></th>\n",
       "      <th>c1</th>\n",
       "      <th>c2</th>\n",
       "    </tr>\n",
       "  </thead>\n",
       "  <tbody>\n",
       "    <tr>\n",
       "      <th>a</th>\n",
       "      <td>1</td>\n",
       "      <td>4</td>\n",
       "    </tr>\n",
       "    <tr>\n",
       "      <th>b</th>\n",
       "      <td>3</td>\n",
       "      <td>6</td>\n",
       "    </tr>\n",
       "    <tr>\n",
       "      <th>c</th>\n",
       "      <td>2</td>\n",
       "      <td>5</td>\n",
       "    </tr>\n",
       "  </tbody>\n",
       "</table>\n",
       "</div>"
      ],
      "text/plain": [
       "   c1  c2\n",
       "a   1   4\n",
       "b   3   6\n",
       "c   2   5"
      ]
     },
     "execution_count": 30,
     "metadata": {},
     "output_type": "execute_result"
    }
   ],
   "source": [
    "df"
   ]
  },
  {
   "cell_type": "code",
   "execution_count": 64,
   "id": "d96eb93e-4bd0-4fb7-928d-d47142d87a6e",
   "metadata": {},
   "outputs": [],
   "source": [
    "arr = ['9:30', '11:15', '16:30']\n",
    "dep = ['9:00','11:45', '11:30', '16:45']"
   ]
  },
  {
   "cell_type": "code",
   "execution_count": 65,
   "id": "05a16c51-881d-40e1-a1c7-6df0c9d64376",
   "metadata": {},
   "outputs": [],
   "source": [
    "arr_int = [int(h)*60+int(m) for h,m in [tm.split(\":\") for tm in arr]]\n",
    "dep_int = [int(h)*60+int(m) for h,m in [tm.split(\":\") for tm in dep]]\n",
    "dep_int.sort()"
   ]
  },
  {
   "cell_type": "code",
   "execution_count": 66,
   "id": "adf5539a-8a2a-4a13-aacb-011cdfbc5d21",
   "metadata": {},
   "outputs": [
    {
     "data": {
      "text/plain": [
       "[570, 675, 990]"
      ]
     },
     "execution_count": 66,
     "metadata": {},
     "output_type": "execute_result"
    }
   ],
   "source": [
    "arr_int"
   ]
  },
  {
   "cell_type": "code",
   "execution_count": 67,
   "id": "18d4e8a8-a35c-4827-aea1-8781ce9bb738",
   "metadata": {},
   "outputs": [
    {
     "data": {
      "text/plain": [
       "[540, 690, 705, 1005]"
      ]
     },
     "execution_count": 67,
     "metadata": {},
     "output_type": "execute_result"
    }
   ],
   "source": [
    "dep_int"
   ]
  },
  {
   "cell_type": "code",
   "execution_count": 68,
   "id": "21e84bcb-edac-4595-8872-ae0a1e1d79b8",
   "metadata": {},
   "outputs": [],
   "source": [
    "arr_ptr = dep_ptr = cnt = gates = 0"
   ]
  },
  {
   "cell_type": "code",
   "execution_count": 70,
   "id": "5c0cbf95-08b6-4532-a7f4-ac1f278ba9f2",
   "metadata": {},
   "outputs": [
    {
     "name": "stdout",
     "output_type": "stream",
     "text": [
      "departure\n"
     ]
    },
    {
     "ename": "ValueError",
     "evalue": "cannot have negative count",
     "output_type": "error",
     "traceback": [
      "\u001b[0;31m---------------------------------------------------------------------------\u001b[0m",
      "\u001b[0;31mValueError\u001b[0m                                Traceback (most recent call last)",
      "\u001b[0;32m/var/folders/wv/8lw0yw8n7pn2m9lmt7yw2drw0000gn/T/ipykernel_6803/3166940912.py\u001b[0m in \u001b[0;36m<module>\u001b[0;34m\u001b[0m\n\u001b[1;32m      8\u001b[0m         \u001b[0mcnt\u001b[0m \u001b[0;34m-=\u001b[0m \u001b[0;36m1\u001b[0m\u001b[0;34m\u001b[0m\u001b[0;34m\u001b[0m\u001b[0m\n\u001b[1;32m      9\u001b[0m         \u001b[0;32mif\u001b[0m \u001b[0mcnt\u001b[0m \u001b[0;34m<\u001b[0m \u001b[0;36m0\u001b[0m\u001b[0;34m:\u001b[0m\u001b[0;34m\u001b[0m\u001b[0;34m\u001b[0m\u001b[0m\n\u001b[0;32m---> 10\u001b[0;31m             \u001b[0;32mraise\u001b[0m \u001b[0mValueError\u001b[0m\u001b[0;34m(\u001b[0m\u001b[0;34m\"cannot have negative count\"\u001b[0m\u001b[0;34m)\u001b[0m\u001b[0;34m\u001b[0m\u001b[0;34m\u001b[0m\u001b[0m\n\u001b[0m\u001b[1;32m     11\u001b[0m         \u001b[0mdep_ptr\u001b[0m \u001b[0;34m-=\u001b[0m \u001b[0;36m1\u001b[0m\u001b[0;34m\u001b[0m\u001b[0;34m\u001b[0m\u001b[0m\n\u001b[1;32m     12\u001b[0m     \u001b[0mgates\u001b[0m \u001b[0;34m=\u001b[0m \u001b[0mmax\u001b[0m\u001b[0;34m(\u001b[0m\u001b[0mgates\u001b[0m\u001b[0;34m,\u001b[0m\u001b[0mcnt\u001b[0m\u001b[0;34m)\u001b[0m\u001b[0;34m\u001b[0m\u001b[0;34m\u001b[0m\u001b[0m\n",
      "\u001b[0;31mValueError\u001b[0m: cannot have negative count"
     ]
    }
   ],
   "source": [
    "while True:\n",
    "    if arr_int[arr_ptr] <= dep_int[dep_ptr]:\n",
    "        print(\"arrival\")\n",
    "        cnt += 1\n",
    "        arr_ptr += 1\n",
    "    else:\n",
    "        print(\"departure\")\n",
    "        cnt -= 1\n",
    "        if cnt < 0:\n",
    "            raise ValueError(\"cannot have negative count\")\n",
    "        dep_ptr -= 1\n",
    "    gates = max(gates,cnt)\n",
    "    if arr_ptr == len(arr_int):\n",
    "        break\n",
    "print(f'gates = {gates}')"
   ]
  },
  {
   "cell_type": "code",
   "execution_count": null,
   "id": "465b4889-a5ca-4ca2-be87-633fed5e7a0c",
   "metadata": {},
   "outputs": [],
   "source": []
  }
 ],
 "metadata": {
  "kernelspec": {
   "display_name": "venv",
   "language": "python",
   "name": "venv"
  },
  "language_info": {
   "codemirror_mode": {
    "name": "ipython",
    "version": 3
   },
   "file_extension": ".py",
   "mimetype": "text/x-python",
   "name": "python",
   "nbconvert_exporter": "python",
   "pygments_lexer": "ipython3",
   "version": "3.9.7"
  }
 },
 "nbformat": 4,
 "nbformat_minor": 5
}
