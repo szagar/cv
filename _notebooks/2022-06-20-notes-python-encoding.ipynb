{
 "cells": [
  {
   "cell_type": "markdown",
   "id": "2c037314-d483-41b4-912a-a86139a921ea",
   "metadata": {},
   "source": [
    "# Encoding Notes\n",
    "> Notes that may be useful when coding.\n",
    "\n",
    "- toc: true\n",
    "- branch: master\n",
    "- badges: true\n",
    "- comments: true\n",
    "- author: Stephen Zagar\n",
    "- categories: [development, notes, python, encoding]"
   ]
  },
  {
   "cell_type": "markdown",
   "id": "0fc36284-768a-4f51-a744-83a863aca52e",
   "metadata": {},
   "source": [
    "## inspect"
   ]
  },
  {
   "cell_type": "code",
   "execution_count": 3,
   "id": "f8a83807-f2ec-416f-8c02-2a867d8b9774",
   "metadata": {},
   "outputs": [
    {
     "data": {
      "text/plain": [
       "'a string'"
      ]
     },
     "execution_count": 3,
     "metadata": {},
     "output_type": "execute_result"
    }
   ],
   "source": [
    "# Decode it.\n",
    "\n",
    "b'a string'.decode('ascii')"
   ]
  },
  {
   "cell_type": "markdown",
   "id": "8778ea63-743d-4b14-9714-28107558a3c0",
   "metadata": {},
   "source": [
    "# To get bytes from string, encode it.\n",
    "'a string'.encode('ascii')"
   ]
  },
  {
   "cell_type": "code",
   "execution_count": 4,
   "id": "e8d28470-a1d2-4165-a880-2d324a536754",
   "metadata": {},
   "outputs": [
    {
     "data": {
      "text/plain": [
       "'a string'"
      ]
     },
     "execution_count": 4,
     "metadata": {},
     "output_type": "execute_result"
    }
   ],
   "source": [
    "b'a string'.decode('utf-8')\n"
   ]
  },
  {
   "cell_type": "markdown",
   "id": "2a809a1e-66a4-43e1-a116-01f8a2498d42",
   "metadata": {},
   "source": [
    "Unicode is international standard\n",
    "3 of the most popular encoding standards defined by Unicode are UTF-8, UTF-16 and UTF-32.\n",
    "\n",
    "**UTF-8:** It uses 1, 2, 3 or 4 bytes to encode every code point. It is backwards compatible with ASCII. All English characters just need 1 byte — which is quite efficient. We only need more bytes if we are sending non-English characters.\n",
    "It is the most popular form of encoding, and is by **default the encoding in Python 3**. In Python 2, the default encoding is ASCII (unfortunately)."
   ]
  },
  {
   "cell_type": "markdown",
   "id": "8c7b89bf-4085-477e-92a2-dcc796f67a8e",
   "metadata": {},
   "source": [
    "We need **encode** method to convert unicode code points to bytes. This will happen typically during writing string data to a CSV or JSON file for example.<br>\n",
    "We need **decode** method to convert bytes to unicode code points. This will typically happen during reading data from a file into strings."
   ]
  },
  {
   "cell_type": "markdown",
   "id": "a7c1083a-dd80-4289-a8e8-5426c89f16c7",
   "metadata": {},
   "source": [
    "Why are encode and decode methods needed?\n",
    "\n",
    "4. What data types in Python handle Unicode code points and bytes?\n",
    "As we discussed earlier, in Python, strings can either be represented in bytes or unicode code points.\n",
    "The main takeaways in Python are:\n",
    "1. Python 2 uses **str** type to store bytes and **unicode** type to store unicode code points. All strings by default are str type — which is bytes~ And Default encoding is ASCII. So if an incoming file is Cyrillic characters, Python 2 might fail because ASCII will not be able to handle those Cyrillic Characters. In this case, we need to remember to use decode(\"utf-8\") during reading of files. This is inconvenient.\n",
    "2. Python 3 came and fixed this. Strings are still**str** type by default but they now mean unicode code points instead — we carry what we see. If we want to store these str type strings in files we use **bytes** type instead. Default encoding is UTF-8 instead of ASCII. Perfect!"
   ]
  },
  {
   "cell_type": "code",
   "execution_count": null,
   "id": "2a574510-aa27-44c2-95e3-8a571bb96f6d",
   "metadata": {},
   "outputs": [],
   "source": []
  },
  {
   "cell_type": "code",
   "execution_count": null,
   "id": "68cc2e2d-f77d-48c0-831f-ef19845868b0",
   "metadata": {},
   "outputs": [],
   "source": []
  }
 ],
 "metadata": {
  "kernelspec": {
   "display_name": "cv-venv",
   "language": "python",
   "name": "cv-venv"
  },
  "language_info": {
   "codemirror_mode": {
    "name": "ipython",
    "version": 3
   },
   "file_extension": ".py",
   "mimetype": "text/x-python",
   "name": "python",
   "nbconvert_exporter": "python",
   "pygments_lexer": "ipython3",
   "version": "3.9.7"
  }
 },
 "nbformat": 4,
 "nbformat_minor": 5
}
