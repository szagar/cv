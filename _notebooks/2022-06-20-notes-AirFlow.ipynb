{
 "cells": [
  {
   "cell_type": "markdown",
   "id": "2c037314-d483-41b4-912a-a86139a921ea",
   "metadata": {},
   "source": [
    "# AirFlow Notes\n",
    "> Notes that may be useful when coding.\n",
    "\n",
    "- toc: true\n",
    "- branch: master\n",
    "- badges: true\n",
    "- comments: true\n",
    "- author: Stephen Zagar\n",
    "- categories: [development, notes, airflow]"
   ]
  },
  {
   "cell_type": "markdown",
   "id": "997557d7-268f-47c1-9ad1-7a67969966bf",
   "metadata": {},
   "source": []
  }
 ],
 "metadata": {
  "kernelspec": {
   "display_name": "cv-venv",
   "language": "python",
   "name": "cv-venv"
  },
  "language_info": {
   "codemirror_mode": {
    "name": "ipython",
    "version": 3
   },
   "file_extension": ".py",
   "mimetype": "text/x-python",
   "name": "python",
   "nbconvert_exporter": "python",
   "pygments_lexer": "ipython3",
   "version": "3.9.7"
  }
 },
 "nbformat": 4,
 "nbformat_minor": 5
}
