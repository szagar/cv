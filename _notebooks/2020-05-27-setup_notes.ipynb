{
 "cells": [
  {
   "cell_type": "markdown",
   "id": "5c89ee91-76bf-4c47-9dd4-27eb95074400",
   "metadata": {},
   "source": [
    "### Env / jupyter setup"
   ]
  },
  {
   "cell_type": "markdown",
   "id": "80b58771-0ab3-4341-864b-69baf59f4ea0",
   "metadata": {},
   "source": [
    "* `python -m venv cv_env`\n",
    "* `source cv_env/bin/activate`\n",
    "* `/Users/szagar/work/blog/cv/cv_env/bin/python -m pip install --upgrade pip`\n",
    "* `pip install jupyter`\n",
    "* `pip install ipykernel`\n",
    "* `python -m ipykernel install --name=cv-venv`"
   ]
  },
  {
   "cell_type": "markdown",
   "id": "30ca2ddd-585f-4561-8cd1-239435e33710",
   "metadata": {},
   "source": [
    "### Juptyer tools"
   ]
  },
  {
   "cell_type": "markdown",
   "id": "040921d2-775d-485d-92c5-2de5b32616fc",
   "metadata": {},
   "source": [
    "* list jupyter virtual envs:\n",
    "  `jupyter kernelspec list`\n",
    "* remove jupyter virtual envs:\n",
    "    `jupyter kernelspec uninstall <venv name>`"
   ]
  },
  {
   "cell_type": "code",
   "execution_count": null,
   "id": "b8b4620c-b263-45ca-9b90-e825b4da8767",
   "metadata": {},
   "outputs": [],
   "source": []
  }
 ],
 "metadata": {
  "kernelspec": {
   "display_name": "cv-venv",
   "language": "python",
   "name": "cv-venv"
  },
  "language_info": {
   "codemirror_mode": {
    "name": "ipython",
    "version": 3
   },
   "file_extension": ".py",
   "mimetype": "text/x-python",
   "name": "python",
   "nbconvert_exporter": "python",
   "pygments_lexer": "ipython3",
   "version": "3.9.7"
  }
 },
 "nbformat": 4,
 "nbformat_minor": 5
}
