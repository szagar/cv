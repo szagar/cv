{
 "cells": [
  {
   "cell_type": "markdown",
   "id": "4f070e95-bf98-4478-807c-7615f882f0d3",
   "metadata": {},
   "source": [
    "# Python bytes\n",
    "> Things to look into\n",
    "\n",
    "- toc: true\n",
    "- branch: master\n",
    "- badges: true\n",
    "- comments: true\n",
    "- author: Stephen Zagar\n",
    "- categories: [bytes]"
   ]
  },
  {
   "cell_type": "markdown",
   "id": "e99e7667-e44c-4885-918c-867c6a54700a",
   "metadata": {},
   "source": [
    "[viztracer](https://github.com/gaogaotiantian/viztracer)"
   ]
  }
 ],
 "metadata": {
  "kernelspec": {
   "display_name": "cv-venv",
   "language": "python",
   "name": "cv-venv"
  },
  "language_info": {
   "codemirror_mode": {
    "name": "ipython",
    "version": 3
   },
   "file_extension": ".py",
   "mimetype": "text/x-python",
   "name": "python",
   "nbconvert_exporter": "python",
   "pygments_lexer": "ipython3",
   "version": "3.9.7"
  }
 },
 "nbformat": 4,
 "nbformat_minor": 5
}
