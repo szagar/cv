{
 "cells": [
  {
   "cell_type": "markdown",
   "id": "2c037314-d483-41b4-912a-a86139a921ea",
   "metadata": {},
   "source": [
    "# CSS Notes\n",
    "> Notes CSS.\n",
    "\n",
    "- toc: true\n",
    "- branch: master\n",
    "- badges: true\n",
    "- comments: true\n",
    "- author: Stephen Zagar\n",
    "- categories: [development, notes, css]"
   ]
  },
  {
   "cell_type": "markdown",
   "id": "419b23fc-24dd-44c2-89c7-d858c2dabd61",
   "metadata": {
    "tags": []
   },
   "source": [
    "### Selectors\n",
    "* games\n",
    "  * [ton of fun and interactive games](https://medium.com/geekculture/learn-css-by-playing-games-cf70a79a38)\n",
    "  * [CSS Diner](https://flukeout.github.io/)\n"
   ]
  },
  {
   "cell_type": "markdown",
   "id": "c865ca4e-ae4f-44ad-b225-1e64bea271ec",
   "metadata": {},
   "source": [
    "- Type Selector\n",
    "- ID Selector: **#**\n",
    "- Descendant Selector:\n",
    "  - **p strong** selects all strong elements that are inside of any p\n",
    "  - **#fancy span** selects any span elements that are inside of the element with id=\"fancy\"\n",
    "- Combine the Descendant & ID Selectors\n",
    "  - **#cool span** selects all span elements that are inside of elements with id=\"cool\"\n",
    "- Class Selector: **.**\n",
    "  - **.neato** selects all elements with class=\"neato\"\n",
    "- Combine the Class Selector\n",
    "  - **ul.important** selects all ul elements that have class=\"important\"\n",
    "  - **#big.wide** selects all elements with id=\"big\" that also have class=\"wide\"\n",
    "- Comma Combinator\n",
    "  - **p, .fun** selects all p elements as well as all elements with class=\"fun\"\n",
    "  - **a, p, div** selects all a, p and div elements\n",
    "- The Universal Selector: <font size=\"4\">**\\***</font>\n",
    "  - **p \\*** selects any element inside all p elements.\n",
    "  - **p \\*** selects every element inside all p elements.\n",
    "  - **ul.fancy \\*** selects every element inside all ul class=\"fancy\" elements.\n",
    "- Adjacent Sibling Selector: <font size=\"4\">**\\+**</font>\n",
    "  - **p + .intro** selects every element with class=\"intro\" that directly follows a \\<p\\>\n",
    "  - **div + a** selects every \\<a\\> element that directly follows a \\<div\\>\n",
    "- General Sibling Selector: <font size=\"4\">**\\~**</font>\n",
    "  - **A ~ B** selects all B that follow a A\n",
    "- Child Selector: <font size=\"4\">**\\>**</font>\n",
    "  - **A \\> B** selects all B that are a direct children A\n",
    "- First Child Pseudo-selector: <font size=\"4\">**\\:**</font>\n",
    "  - **:first-child** selects all first child elements.\n",
    "  - **p:first-child** selects all first child \\<p\\> elements.\n",
    "  - **div p:first-child** selects all first child \\<p\\> elements that are in a \\<div\\>."
   ]
  },
  {
   "cell_type": "code",
   "execution_count": null,
   "id": "4ff0713b-bf87-4cc6-9144-f1957d9e84a5",
   "metadata": {},
   "outputs": [],
   "source": []
  }
 ],
 "metadata": {
  "kernelspec": {
   "display_name": "cv-venv",
   "language": "python",
   "name": "cv-venv"
  },
  "language_info": {
   "codemirror_mode": {
    "name": "ipython",
    "version": 3
   },
   "file_extension": ".py",
   "mimetype": "text/x-python",
   "name": "python",
   "nbconvert_exporter": "python",
   "pygments_lexer": "ipython3",
   "version": "3.9.7"
  }
 },
 "nbformat": 4,
 "nbformat_minor": 5
}
