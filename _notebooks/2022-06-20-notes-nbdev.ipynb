{
 "cells": [
  {
   "cell_type": "markdown",
   "id": "cd713296-64cf-4f60-8fda-fe4ea4bc6dea",
   "metadata": {},
   "source": [
    "# nbdev notes\n",
    "> Notes on setting up and using nbdev\n",
    "\n",
    "- toc: true\n",
    "- branch: master\n",
    "- badges: true\n",
    "- comments: true\n",
    "- author: Stephen Zagar\n",
    "- categories: [nbdev, notes]"
   ]
  },
  {
   "cell_type": "markdown",
   "id": "f74e45b4-8449-46c6-a369-bbf8f5d6131a",
   "metadata": {},
   "source": [
    "* [Angela C notes](https://www.angela1c.com/posts/2021/04/nbdev-tutorial/)\n",
    "* [tutorial](https://nbdev.fast.ai/getting_started.html)"
   ]
  }
 ],
 "metadata": {
  "kernelspec": {
   "display_name": "cv-venv",
   "language": "python",
   "name": "cv-venv"
  },
  "language_info": {
   "codemirror_mode": {
    "name": "ipython",
    "version": 3
   },
   "file_extension": ".py",
   "mimetype": "text/x-python",
   "name": "python",
   "nbconvert_exporter": "python",
   "pygments_lexer": "ipython3",
   "version": "3.9.7"
  }
 },
 "nbformat": 4,
 "nbformat_minor": 5
}
