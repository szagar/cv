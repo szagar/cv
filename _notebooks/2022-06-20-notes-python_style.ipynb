{
 "cells": [
  {
   "cell_type": "markdown",
   "id": "2c037314-d483-41b4-912a-a86139a921ea",
   "metadata": {},
   "source": [
    "# Python Code Style\n",
    "> Notes that may be useful when coding.\n",
    "\n",
    "- toc: true\n",
    "- branch: master\n",
    "- badges: true\n",
    "- comments: true\n",
    "- author: Stephen Zagar\n",
    "- categories: [development, notes, python, style]"
   ]
  },
  {
   "cell_type": "markdown",
   "id": "0fc36284-768a-4f51-a744-83a863aca52e",
   "metadata": {},
   "source": [
    "## Comments\n",
    "* **Tagging:** \n",
    "  - `# TODO:`\n",
    "  - `# BUG:`\n",
    "  - `# FIXME:`"
   ]
  },
  {
   "cell_type": "markdown",
   "id": "121ee22a-f819-4273-a6a4-d6ec420f5322",
   "metadata": {},
   "source": [
    "## Docstrings\n",
    "* [**PEP 257**](https://www.python.org/dev/peps/pep-0257/)\n",
    "* [**realpython**](https://realpython.com/documenting-python-code/)\n",
    "* **Docstring Types:**:  (function, class, class method, module, package, and script)\n",
    "* **Docstring Formats:** The different docstring “formats” (Google, NumPy/SciPy, reStructuredText, and Epytext)\n",
    "\n"
   ]
  },
  {
   "cell_type": "raw",
   "id": "0d2604ba-66a9-4ce6-9d49-b36cee5914a2",
   "metadata": {
    "tags": []
   },
   "source": [
    "\"\"\"This is the summary line\n",
    "\n",
    "This is the further elaboration of the docstring. Within this section,\n",
    "you can elaborate further on details as appropriate for the situation.\n",
    "Notice that the summary and the elaboration is separated by a blank new\n",
    "line.\n",
    "\"\"\"\n",
    "\n",
    "# Notice the blank line above. Code should continue on this line."
   ]
  },
  {
   "cell_type": "markdown",
   "id": "8778ea63-743d-4b14-9714-28107558a3c0",
   "metadata": {
    "tags": []
   },
   "source": [
    "### Class Docstrings\n",
    "* A brief summary of its purpose and behavior\n",
    "* Any public methods, along with a brief description\n",
    "* Any class properties (attributes)\n",
    "* Anything related to the interface for subclassers, if the class is intended to be subclassed\n",
    "\n",
    "```\n",
    "class SimpleClass:\n",
    "    \"\"\"Class docstrings go here.\"\"\"\n",
    "\n",
    "    def say_hello(self, name: str):\n",
    "        \"\"\"Class method docstrings go here.\"\"\"\n",
    "\n",
    "        print(f'Hello {name}')\n",
    "\n",
    "```"
   ]
  },
  {
   "cell_type": "markdown",
   "id": "04353822-42d0-4096-bcc5-d59575c22125",
   "metadata": {},
   "source": [
    "# example:\n",
    "```\n",
    "class Animal:\n",
    "    \"\"\"\n",
    "    A class used to represent an Animal\n",
    "\n",
    "    ...\n",
    "\n",
    "    Attributes\n",
    "    ----------\n",
    "    says_str : str\n",
    "        a formatted string to print out what the animal says\n",
    "    name : str\n",
    "        the name of the animal\n",
    "    sound : str\n",
    "        the sound that the animal makes\n",
    "    num_legs : int\n",
    "        the number of legs the animal has (default 4)\n",
    "\n",
    "    Methods\n",
    "    -------\n",
    "    says(sound=None)\n",
    "        Prints the animals name and what sound it makes\n",
    "    \"\"\"\n",
    "\n",
    "    says_str = \"A {name} says {sound}\"\n",
    "\n",
    "    def __init__(self, name, sound, num_legs=4):\n",
    "        \"\"\"\n",
    "        Parameters\n",
    "        ----------\n",
    "        name : str\n",
    "            The name of the animal\n",
    "        sound : str\n",
    "            The sound the animal makes\n",
    "        num_legs : int, optional\n",
    "            The number of legs the animal (default is 4)\n",
    "        \"\"\"\n",
    "\n",
    "        self.name = name\n",
    "        self.sound = sound\n",
    "        self.num_legs = num_legs\n",
    "\n",
    "    def says(self, sound=None):\n",
    "        \"\"\"Prints what the animals name is and what sound it makes.\n",
    "\n",
    "        If the argument `sound` isn't passed in, the default Animal\n",
    "        sound is used.\n",
    "\n",
    "        Parameters\n",
    "        ----------\n",
    "        sound : str, optional\n",
    "            The sound the animal makes (default is None)\n",
    "\n",
    "        Raises\n",
    "        ------\n",
    "        NotImplementedError\n",
    "            If no sound is set for the animal or passed in as a\n",
    "            parameter.\n",
    "        \"\"\"\n",
    "\n",
    "        if self.sound is None and sound is None:\n",
    "            raise NotImplementedError(\"Silent Animals are not supported!\")\n",
    "\n",
    "        out_sound = self.sound if sound is None else sound\n",
    "        print(self.says_str.format(name=self.name, sound=out_sound))\n",
    "```"
   ]
  },
  {
   "cell_type": "code",
   "execution_count": null,
   "id": "09ec58a4-a9a2-40cf-b064-bce49397f2e5",
   "metadata": {},
   "outputs": [],
   "source": []
  }
 ],
 "metadata": {
  "kernelspec": {
   "display_name": "cv-venv",
   "language": "python",
   "name": "cv-venv"
  },
  "language_info": {
   "codemirror_mode": {
    "name": "ipython",
    "version": 3
   },
   "file_extension": ".py",
   "mimetype": "text/x-python",
   "name": "python",
   "nbconvert_exporter": "python",
   "pygments_lexer": "ipython3",
   "version": "3.9.7"
  }
 },
 "nbformat": 4,
 "nbformat_minor": 5
}
